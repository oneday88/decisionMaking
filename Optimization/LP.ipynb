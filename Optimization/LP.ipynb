{
 "cells": [
  {
   "cell_type": "markdown",
   "id": "85670038",
   "metadata": {},
   "source": [
    "### Introduction\n",
    "In this part, we show how to apply scipy.optimize module to solve the linear programming problem.\n",
    "Assume we have the following Linear programming problem: \n",
    "$$\n",
    "\\begin{equation*}\n",
    "    \\begin{array}{lr}\n",
    "        \\underset{x_0,x_1}{\\text{max}}     & 3x_0+ 5x_1\\\\\n",
    "        \\text{subject to}   & x_0 +x_1 \\leq 4  \\\\\n",
    "                            &   x_0 +3x_1 \\leq 6      \\\\\n",
    "                            &   x_0, x_1 \\geq 0\n",
    "    \\end{array}\n",
    "\\end{equation*}\n",
    "$$\n",
    "\n",
    "The default setting of scipy.optimize module is to minimize an objective function, so we can transform the original problem to a new one:\n",
    "$$\n",
    "\\begin{equation*}\n",
    "    \\begin{array}{lr}\n",
    "        \\underset{x_0,x_1}{\\text{min}}     &  - 3x_0 - 5x_1\\\\\n",
    "         \\text{subject to}   & x_0 +x_1 \\leq 4  \\\\\n",
    "                            &   x_0 +3x_1 \\leq 6      \\\\\n",
    "                            &   x_0, x_1 \\geq 0\n",
    "    \\end{array}\n",
    "\\end{equation*}\n",
    "$$"
   ]
  },
  {
   "cell_type": "code",
   "execution_count": 1,
   "id": "7b9be62d",
   "metadata": {},
   "outputs": [
    {
     "name": "stdout",
     "output_type": "stream",
     "text": [
      " message: Optimization terminated successfully.\n",
      " success: True\n",
      "  status: 0\n",
      "     fun: -14.0\n",
      "       x: [ 3.000e+00  1.000e+00]\n",
      "     nit: 3\n"
     ]
    },
    {
     "name": "stderr",
     "output_type": "stream",
     "text": [
      "/var/folders/y3/wjtbjdtj0cz_2f3bqxdtjw9m0000gn/T/ipykernel_36107/1655057440.py:10: DeprecationWarning: `method='simplex'` is deprecated and will be removed in SciPy 1.11.0. Please use one of the HiGHS solvers (e.g. `method='highs'`) in new code.\n",
      "  res = linprog(c, A_ub=A, b_ub=b, bounds=[x0_bounds, x1_bounds],method='simplex')\n"
     ]
    }
   ],
   "source": [
    "import numpy as np\n",
    "from scipy.optimize import linprog\n",
    "\n",
    "c = np.array([3, 5])*(-1)\n",
    "A = [[1, 1], [1, 3]]\n",
    "b = [4, 6]\n",
    "x0_bounds = (0, None)\n",
    "x1_bounds = (0, None)\n",
    "\n",
    "res = linprog(c, A_ub=A, b_ub=b, bounds=[x0_bounds, x1_bounds],method='simplex')\n",
    "print(res)"
   ]
  },
  {
   "cell_type": "markdown",
   "id": "13bd70f5",
   "metadata": {},
   "source": [
    "We can try the highs solver"
   ]
  },
  {
   "cell_type": "code",
   "execution_count": 2,
   "id": "0eb1ce60",
   "metadata": {},
   "outputs": [
    {
     "name": "stdout",
     "output_type": "stream",
     "text": [
      "        message: Optimization terminated successfully. (HiGHS Status 7: Optimal)\n",
      "        success: True\n",
      "         status: 0\n",
      "            fun: -14.0\n",
      "              x: [ 3.000e+00  1.000e+00]\n",
      " mip_node_count: 1\n",
      " mip_dual_bound: -14.0\n",
      "        mip_gap: 0.0\n"
     ]
    }
   ],
   "source": [
    "import numpy as np\n",
    "from scipy.optimize import milp, LinearConstraint, Bounds\n",
    "\n",
    "### The objective values@x\n",
    "# 优化模块默认是minimize  *(-1) 转成maximize\n",
    "c = np.array([3, 5])*(-1.)\n",
    "integrality = np.ones_like(c)\n",
    "\n",
    "b = np.array([4, 6])\n",
    "A1 = np.array([[1, 1], [1, 3]])\n",
    "A2 = np.identity(len(c))\n",
    "A =  np.concatenate((A1,A2), axis=0)\n",
    "\n",
    "\n",
    "upper_bound =  np.concatenate((b,[np.inf ,np.inf ]), axis=0)\n",
    "low_bound = np.zeros(upper_bound.shape)\n",
    "\n",
    "constraints = LinearConstraint(A, low_bound, upper_bound)\n",
    "res = milp(c=c, constraints=constraints, integrality=integrality)\n",
    "print(res)"
   ]
  }
 ],
 "metadata": {
  "kernelspec": {
   "display_name": "Python 3 (ipykernel)",
   "language": "python",
   "name": "python3"
  },
  "language_info": {
   "codemirror_mode": {
    "name": "ipython",
    "version": 3
   },
   "file_extension": ".py",
   "mimetype": "text/x-python",
   "name": "python",
   "nbconvert_exporter": "python",
   "pygments_lexer": "ipython3",
   "version": "3.9.10"
  }
 },
 "nbformat": 4,
 "nbformat_minor": 5
}
