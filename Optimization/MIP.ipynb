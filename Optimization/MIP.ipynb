{
 "cells": [
  {
   "cell_type": "markdown",
   "id": "e58e596b",
   "metadata": {},
   "source": [
    "### Introduction\n",
    "In this part, we show how to apply scipy.optimize module to solve an integer programming problem. \n",
    "An integer programming problem is an optimization problem that our decision variables are restrcited to be integers.\n",
    "\n",
    "One of the classical integer programming problem is the 0/1 knapsack problem which can be describe as follow: \n",
    "\n",
    "Given a set of items $i=1,2,...,m$, each with a weight $w_i$ and a value $v_i$, determine which items to include in the collection so that the total weight is less than or equal to a given limit $W$ and the total value is as large as possible.\n"
   ]
  },
  {
   "cell_type": "markdown",
   "id": "d5da5582",
   "metadata": {},
   "source": [
    "The 0/1 knapsack problem can be formula as an integer programming:\n",
    "\n",
    " \\begin{equation*}\n",
    "    \\begin{array}{ll}\n",
    "        \\underset{x_1,x_2,...,x_n}{\\text{maxmize}}     & \\displaystyle \\sum\\limits_{i=1}^n v_i x_i \\\\\n",
    "        \\text{subject to}   & \\displaystyle   \\sum\\limits_{i=1}^n w_i x_i \\leq W  \\\\\n",
    "                            &  \\displaystyle \\mathbf{x_i} \\in \\{0,1\\},i=1,..,n\n",
    "    \\end{array}\n",
    "\\end{equation*}\n",
    "\n"
   ]
  },
  {
   "cell_type": "markdown",
   "id": "7f348a76",
   "metadata": {},
   "source": [
    "Assume the values and weights of the items can be describe as follow:\n",
    "    \n",
    "| item | weight | value |\n",
    "|------|--------|-------|\n",
    "| 1    | 2      | $12$. |\n",
    "| 2    | 1      | $10$. |\n",
    "| 3    | 3      | $20$. |\n",
    "| 4    | 2      | $15$. |\n",
    "\n",
    "we can solve the problem with scipy.optimize.milp"
   ]
  },
  {
   "cell_type": "code",
   "execution_count": 1,
   "id": "4e74da03",
   "metadata": {},
   "outputs": [
    {
     "name": "stdout",
     "output_type": "stream",
     "text": [
      "        message: Optimization terminated successfully. (HiGHS Status 7: Optimal)\n",
      "        success: True\n",
      "         status: 0\n",
      "            fun: -37.0\n",
      "              x: [ 1.000e+00  1.000e+00  0.000e+00  1.000e+00]\n",
      " mip_node_count: 1\n",
      " mip_dual_bound: -37.0\n",
      "        mip_gap: 0.0\n"
     ]
    }
   ],
   "source": [
    "import numpy as np\n",
    "\n",
    "### Input variables\n",
    "W = 5\n",
    "values = [12,10, 20, 15]\n",
    "weights = [2,1,3,2]\n",
    "\n",
    "from scipy.optimize import milp, LinearConstraint, Bounds\n",
    "### The objective values@x\n",
    "# 优化模块默认是minimize  *(-1) 转成maximize\n",
    "c = np.array([12,10, 20, 15])*(-1.)\n",
    "integrality = np.ones_like(values)\n",
    "###约束集合\n",
    "A = np.identity(len(values))\n",
    "A =  np.concatenate((np.array(weights).reshape(1,-1),A), axis=0)\n",
    "\n",
    "upper_bound = np.array([5, 1,1,1,1])\n",
    "#low_bound = np.array([0,0,0,0,0])\n",
    "low_bound = np.zeros(upper_bound.shape)\n",
    "constraints = LinearConstraint(A, low_bound, upper_bound)\n",
    "\n",
    "res = milp(c=c, constraints=constraints, integrality=integrality)\n",
    "print(res)"
   ]
  },
  {
   "cell_type": "code",
   "execution_count": null,
   "id": "f176c759",
   "metadata": {},
   "outputs": [],
   "source": []
  }
 ],
 "metadata": {
  "kernelspec": {
   "display_name": "Python 3 (ipykernel)",
   "language": "python",
   "name": "python3"
  },
  "language_info": {
   "codemirror_mode": {
    "name": "ipython",
    "version": 3
   },
   "file_extension": ".py",
   "mimetype": "text/x-python",
   "name": "python",
   "nbconvert_exporter": "python",
   "pygments_lexer": "ipython3",
   "version": "3.9.10"
  }
 },
 "nbformat": 4,
 "nbformat_minor": 5
}
